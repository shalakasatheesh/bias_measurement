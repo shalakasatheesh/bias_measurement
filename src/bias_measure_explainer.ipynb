{
 "cells": [
  {
   "cell_type": "code",
   "execution_count": 1,
   "metadata": {},
   "outputs": [],
   "source": [
    "import pandas as pd\n",
    "import numpy as np\n",
    "import itertools\n",
    "from collections import defaultdict\n",
    "from nltk.tokenize import word_tokenize, sent_tokenize\n",
    "\n",
    "from typing import Dict, List\n",
    "\n",
    "# references: \n",
    "# https://github.com/stanford-crfm/helm/tree/main \n",
    "# https://arxiv.org/abs/2211.09110\n",
    "# https://datacentricai.org/blog/the-hugging-face-data-measurements-tool/\n",
    "# https://huggingface.co/spaces/huggingface/data-measurements-tool"
   ]
  },
  {
   "cell_type": "markdown",
   "metadata": {},
   "source": [
    "# Word lists \n",
    "\n",
    "Store word lists in dictionaries"
   ]
  },
  {
   "cell_type": "code",
   "execution_count": 2,
   "metadata": {},
   "outputs": [],
   "source": [
    "female_terms = [\n",
    "    \"she\",\n",
    "    \"daughter\",\n",
    "    \"hers\",\n",
    "    \"her\",\n",
    "    \"mother\",\n",
    "    \"woman\",\n",
    "    \"girl\",\n",
    "    \"herself\",\n",
    "    \"female\",\n",
    "    \"sister\",\n",
    "    \"daughters\",\n",
    "    \"mothers\",\n",
    "    \"women\",\n",
    "    \"girls\",\n",
    "    \"femen\",\n",
    "    \"sisters\",\n",
    "    \"aunt\",\n",
    "    \"aunts\",\n",
    "    \"niece\",\n",
    "    \"nieces\",\n",
    "    \"wife\",\n",
    "    \"wives\"\n",
    "]\n",
    "\n",
    "male_terms = [\n",
    "    \"he\",\n",
    "    \"son\",\n",
    "    \"his\",\n",
    "    \"him\",\n",
    "    \"father\",\n",
    "    \"man\",\n",
    "    \"boy\",\n",
    "    \"himself\",\n",
    "    \"male\",\n",
    "    \"brother\",\n",
    "    \"sons\",\n",
    "    \"fathers\",\n",
    "    \"men\",\n",
    "    \"boys\",\n",
    "    \"males\",\n",
    "    \"brothers\",\n",
    "    \"uncle\",\n",
    "    \"uncles\",\n",
    "    \"nephew\",\n",
    "    \"nephews\",\n",
    "    \"husband\",\n",
    "    \"husbands\"\n",
    "]\n",
    "\n",
    "adjectives = [\n",
    "    \"reactive\",\n",
    "    \"caring\",\n",
    "    \"gentle\",\n",
    "    \"working\"\n",
    "]\n",
    "\n",
    "professions = [\n",
    "    \"doctor\",\n",
    "    \"nurse\",\n",
    "    \"physician\",\n",
    "    \"engineer\", \n",
    "    \"professor\"\n",
    "]\n",
    "\n",
    "gender_dictionary = {\n",
    "    \"female\": female_terms,\n",
    "    \"male\": male_terms,\n",
    "}\n",
    "\n",
    "target_dictionary = {\n",
    "    \"adjectives\": adjectives, \n",
    "    \"professions\": professions\n",
    "    }"
   ]
  },
  {
   "cell_type": "code",
   "execution_count": 3,
   "metadata": {},
   "outputs": [],
   "source": [
    "example_2 = [\n",
    "\"Once upon a time, there was a nurse named Emily.\",\"She was known for her caring and gentle nature.\", \"Emily she is a nurse in a hospital\", \n",
    "\"her husband is working as an engineer in a manager position\",\n",
    "\"In his free time,he plays football with his friends.\"\n",
    "\"One day, she met a doctor named David.\", \"He was a highly skilled physician.\", \n",
    "\"Emily and David worked together in the hospital and treated many patients.\",\"This woman is a better nurse than doctor\",\"She is a nurse.\", \"he was reactive\"]"
   ]
  },
  {
   "cell_type": "markdown",
   "metadata": {},
   "source": [
    "# Compute Demographic Statistics\n",
    "\n",
    "Tries to answer:\n",
    "- How many times do female/male terms appear in a given text?"
   ]
  },
  {
   "cell_type": "code",
   "execution_count": 4,
   "metadata": {},
   "outputs": [
    {
     "data": {
      "text/plain": [
       "['female', 'male']"
      ]
     },
     "execution_count": 4,
     "metadata": {},
     "output_type": "execute_result"
    }
   ],
   "source": [
    "tokens = []\n",
    "for sentence in example_2:\n",
    "    for word in (word_tokenize(sentence.lower())):\n",
    "        tokens.append(word)\n",
    "\n",
    "demographic_groups = list(gender_dictionary.keys()) \n",
    "demographic_groups # these are the demographic groups that we are interested in "
   ]
  },
  {
   "cell_type": "code",
   "execution_count": 5,
   "metadata": {},
   "outputs": [
    {
     "data": {
      "text/plain": [
       "defaultdict(int, {'female': 7, 'male': 6})"
      ]
     },
     "execution_count": 5,
     "metadata": {},
     "output_type": "execute_result"
    }
   ],
   "source": [
    "demographic_stats = defaultdict(int) # initialising with defaultdict() so that key error will not be raised\n",
    "\n",
    "for group in demographic_groups:\n",
    "    counts = []\n",
    "    for token in tokens:\n",
    "        if token in gender_dictionary[group]:\n",
    "            counts.append(token)\n",
    "    demographic_stats[group] = len(counts)\n",
    "\n",
    "demographic_stats"
   ]
  },
  {
   "cell_type": "markdown",
   "metadata": {},
   "source": [
    "Convert to Dataframe to display"
   ]
  },
  {
   "cell_type": "code",
   "execution_count": 172,
   "metadata": {},
   "outputs": [
    {
     "data": {
      "text/html": [
       "<div>\n",
       "<style scoped>\n",
       "    .dataframe tbody tr th:only-of-type {\n",
       "        vertical-align: middle;\n",
       "    }\n",
       "\n",
       "    .dataframe tbody tr th {\n",
       "        vertical-align: top;\n",
       "    }\n",
       "\n",
       "    .dataframe thead th {\n",
       "        text-align: right;\n",
       "    }\n",
       "</style>\n",
       "<table border=\"1\" class=\"dataframe\">\n",
       "  <thead>\n",
       "    <tr style=\"text-align: right;\">\n",
       "      <th></th>\n",
       "      <th>values</th>\n",
       "    </tr>\n",
       "    <tr>\n",
       "      <th>demographic_group</th>\n",
       "      <th></th>\n",
       "    </tr>\n",
       "  </thead>\n",
       "  <tbody>\n",
       "    <tr>\n",
       "      <th>female</th>\n",
       "      <td>7</td>\n",
       "    </tr>\n",
       "    <tr>\n",
       "      <th>male</th>\n",
       "      <td>6</td>\n",
       "    </tr>\n",
       "  </tbody>\n",
       "</table>\n",
       "</div>"
      ],
      "text/plain": [
       "                   values\n",
       "demographic_group        \n",
       "female                  7\n",
       "male                    6"
      ]
     },
     "execution_count": 172,
     "metadata": {},
     "output_type": "execute_result"
    }
   ],
   "source": [
    "dataframe = pd.DataFrame.from_dict([demographic_stats]).T.rename(columns={0: 'values'})\n",
    "dataframe.index.names=['demographic_group']\n",
    "# dataframe.to_csv('demographic_stats.csv')\n",
    "dataframe"
   ]
  },
  {
   "cell_type": "markdown",
   "metadata": {},
   "source": [
    "# Compute Co-occurrence Matrix\n",
    "\n",
    "Tries to answer:\n",
    "- How many times do male / female terms appear with a given target word. \n",
    "- Target words can be professions, adjectives, etc\n",
    "\n",
    "Limitations:\n",
    "- Cases when a male **and** a female term appear with a target word \n",
    "\n",
    "eg: This woman is a better nurse than doctor --> both `(female, doctor)` and `(female, nurse)` are updated by a count of `1`"
   ]
  },
  {
   "cell_type": "code",
   "execution_count": 78,
   "metadata": {},
   "outputs": [
    {
     "data": {
      "text/plain": [
       "defaultdict(int,\n",
       "            {('doctor', 'female'): 2,\n",
       "             ('doctor', 'male'): 3,\n",
       "             ('nurse', 'female'): 3,\n",
       "             ('nurse', 'male'): 0,\n",
       "             ('physician', 'female'): 0,\n",
       "             ('physician', 'male'): 1,\n",
       "             ('engineer', 'female'): 1,\n",
       "             ('engineer', 'male'): 1,\n",
       "             ('professor', 'female'): 0,\n",
       "             ('professor', 'male'): 0})"
      ]
     },
     "execution_count": 78,
     "metadata": {},
     "output_type": "execute_result"
    }
   ],
   "source": [
    "cooccurence_dict = defaultdict(int) # initialising with defaultdict() so that key error will not be raised\n",
    "\n",
    "# target_words = target_dictionary[\"adjectives\"] # initialise target terms\n",
    "target_words = target_dictionary[\"professions\"] # initialise target terms\n",
    "\n",
    "demographic_groups = list(gender_dictionary.keys())  # initialise demographic groups\n",
    "\n",
    "for sentence in example_2:\n",
    "    tokens = word_tokenize(sentence.lower()) # tokenise the words in a given sentence in a list. eg: [\"she\", \"was\", \"known\", ..]\n",
    "    for (target, demographic_group) in itertools.product(target_words, demographic_groups): # compute crossproducts between target and demographic terms\n",
    "        demographic_group_word_count = [] \n",
    "        target_count = []\n",
    "        demographic_group_words = gender_dictionary[demographic_group] # list of all terms in given demographic group, eg: for 'female' group, list would be [\"she\", \"daughter\", ..]\n",
    "        for word in demographic_group_words:\n",
    "            demographic_group_word_count.append(tokens.count(word)) # take count of each time any of the demographic terms appears in text\n",
    "        target_count.append(tokens.count(target)) # take count of each time any of the target terms appears for the same text\n",
    "        count = sum(demographic_group_word_count) * sum(target_count)\n",
    "        cooccurence_dict[(target, demographic_group)] += count\n",
    "\n",
    "# to print only the non-zero co-occuring pairs\n",
    "# for index, value in enumerate((cooccurence_dict).values()):\n",
    "#     if value != 0:\n",
    "#         print(list((cooccurence_dict).keys())[index], cooccurence_dict[list((cooccurence_dict).keys())[index]])\n",
    "\n",
    "cooccurence_dict"
   ]
  },
  {
   "cell_type": "markdown",
   "metadata": {},
   "source": [
    "Convert to pandas Dataframe to display"
   ]
  },
  {
   "cell_type": "code",
   "execution_count": 153,
   "metadata": {},
   "outputs": [
    {
     "data": {
      "text/html": [
       "<div>\n",
       "<style scoped>\n",
       "    .dataframe tbody tr th:only-of-type {\n",
       "        vertical-align: middle;\n",
       "    }\n",
       "\n",
       "    .dataframe tbody tr th {\n",
       "        vertical-align: top;\n",
       "    }\n",
       "\n",
       "    .dataframe thead th {\n",
       "        text-align: right;\n",
       "    }\n",
       "</style>\n",
       "<table border=\"1\" class=\"dataframe\">\n",
       "  <thead>\n",
       "    <tr style=\"text-align: right;\">\n",
       "      <th>demographic_group</th>\n",
       "      <th>female</th>\n",
       "      <th>male</th>\n",
       "    </tr>\n",
       "    <tr>\n",
       "      <th>target_group</th>\n",
       "      <th></th>\n",
       "      <th></th>\n",
       "    </tr>\n",
       "  </thead>\n",
       "  <tbody>\n",
       "    <tr>\n",
       "      <th>doctor</th>\n",
       "      <td>2</td>\n",
       "      <td>3</td>\n",
       "    </tr>\n",
       "    <tr>\n",
       "      <th>engineer</th>\n",
       "      <td>1</td>\n",
       "      <td>1</td>\n",
       "    </tr>\n",
       "    <tr>\n",
       "      <th>nurse</th>\n",
       "      <td>3</td>\n",
       "      <td>0</td>\n",
       "    </tr>\n",
       "    <tr>\n",
       "      <th>physician</th>\n",
       "      <td>0</td>\n",
       "      <td>1</td>\n",
       "    </tr>\n",
       "    <tr>\n",
       "      <th>professor</th>\n",
       "      <td>0</td>\n",
       "      <td>0</td>\n",
       "    </tr>\n",
       "  </tbody>\n",
       "</table>\n",
       "</div>"
      ],
      "text/plain": [
       "demographic_group  female  male\n",
       "target_group                   \n",
       "doctor                  2     3\n",
       "engineer                1     1\n",
       "nurse                   3     0\n",
       "physician               0     1\n",
       "professor               0     0"
      ]
     },
     "execution_count": 153,
     "metadata": {},
     "output_type": "execute_result"
    }
   ],
   "source": [
    "index = pd.MultiIndex.from_tuples(tuples=cooccurence_dict.keys(), names=['target_group', 'demographic_group'])\n",
    "dataframe = pd.Series(cooccurence_dict, index=index).reset_index().rename(columns={0: 'values'})\n",
    "dataframe = dataframe.pivot(index='target_group', columns='demographic_group', values='values')\n",
    "dataframe\n"
   ]
  },
  {
   "cell_type": "code",
   "execution_count": null,
   "metadata": {},
   "outputs": [],
   "source": []
  },
  {
   "cell_type": "code",
   "execution_count": null,
   "metadata": {},
   "outputs": [],
   "source": []
  }
 ],
 "metadata": {
  "kernelspec": {
   "display_name": "thesis",
   "language": "python",
   "name": "python3"
  },
  "language_info": {
   "codemirror_mode": {
    "name": "ipython",
    "version": 3
   },
   "file_extension": ".py",
   "mimetype": "text/x-python",
   "name": "python",
   "nbconvert_exporter": "python",
   "pygments_lexer": "ipython3",
   "version": "3.11.3"
  },
  "orig_nbformat": 4
 },
 "nbformat": 4,
 "nbformat_minor": 2
}
